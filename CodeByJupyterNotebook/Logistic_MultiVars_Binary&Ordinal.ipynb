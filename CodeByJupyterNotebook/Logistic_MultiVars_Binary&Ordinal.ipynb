{
 "cells": [
  {
   "cell_type": "code",
   "execution_count": 1,
   "metadata": {
    "collapsed": false,
    "pycharm": {
     "name": "#%%\n"
    }
   },
   "outputs": [],
   "source": [
    "import numpy as np\n",
    "import pandas as pd\n",
    "import matplotlib.pyplot as plt\n",
    "import seaborn as sns\n",
    "from sklearn.preprocessing import MinMaxScaler\n",
    "import warnings\n",
    "warnings.filterwarnings(\"ignore\")"
   ]
  },
  {
   "cell_type": "code",
   "execution_count": 2,
   "metadata": {
    "collapsed": false,
    "pycharm": {
     "name": "#%%\n"
    }
   },
   "outputs": [],
   "source": [
    "plt.rcParams['figure.figsize']=(10,8)\n",
    "plt.rcParams['figure.dpi']=100"
   ]
  },
  {
   "cell_type": "code",
   "execution_count": 3,
   "metadata": {
    "collapsed": false,
    "pycharm": {
     "name": "#%%\n"
    }
   },
   "outputs": [
    {
     "name": "stdout",
     "output_type": "stream",
     "text": [
      "<class 'pandas.core.frame.DataFrame'>\n",
      "RangeIndex: 14999 entries, 0 to 14998\n",
      "Data columns (total 10 columns):\n",
      " #   Column                 Non-Null Count  Dtype  \n",
      "---  ------                 --------------  -----  \n",
      " 0   satisfaction_level     14999 non-null  float64\n",
      " 1   last_evaluation        14999 non-null  float64\n",
      " 2   number_project         14999 non-null  int64  \n",
      " 3   average_montly_hours   14999 non-null  int64  \n",
      " 4   time_spend_company     14999 non-null  int64  \n",
      " 5   Work_accident          14999 non-null  int64  \n",
      " 6   left                   14999 non-null  int64  \n",
      " 7   promotion_last_5years  14999 non-null  int64  \n",
      " 8   sales                  14999 non-null  object \n",
      " 9   salary                 14999 non-null  object \n",
      "dtypes: float64(2), int64(6), object(2)\n",
      "memory usage: 1.1+ MB\n",
      "None\n",
      "       satisfaction_level  last_evaluation  number_project  \\\n",
      "0                    0.38             0.53               2   \n",
      "1                    0.80             0.86               5   \n",
      "2                    0.11             0.88               7   \n",
      "3                    0.72             0.87               5   \n",
      "4                    0.37             0.52               2   \n",
      "...                   ...              ...             ...   \n",
      "14994                0.40             0.57               2   \n",
      "14995                0.37             0.48               2   \n",
      "14996                0.37             0.53               2   \n",
      "14997                0.11             0.96               6   \n",
      "14998                0.37             0.52               2   \n",
      "\n",
      "       average_montly_hours  time_spend_company  Work_accident  left  \\\n",
      "0                       157                   3              0     1   \n",
      "1                       262                   6              0     1   \n",
      "2                       272                   4              0     1   \n",
      "3                       223                   5              0     1   \n",
      "4                       159                   3              0     1   \n",
      "...                     ...                 ...            ...   ...   \n",
      "14994                   151                   3              0     1   \n",
      "14995                   160                   3              0     1   \n",
      "14996                   143                   3              0     1   \n",
      "14997                   280                   4              0     1   \n",
      "14998                   158                   3              0     1   \n",
      "\n",
      "       promotion_last_5years    sales  salary  \n",
      "0                          0    sales     low  \n",
      "1                          0    sales  medium  \n",
      "2                          0    sales  medium  \n",
      "3                          0    sales     low  \n",
      "4                          0    sales     low  \n",
      "...                      ...      ...     ...  \n",
      "14994                      0  support     low  \n",
      "14995                      0  support     low  \n",
      "14996                      0  support     low  \n",
      "14997                      0  support     low  \n",
      "14998                      0  support     low  \n",
      "\n",
      "[14999 rows x 10 columns]\n"
     ]
    }
   ],
   "source": [
    "df = pd.read_csv('../Data/HR_comma_sep.csv')\n",
    "print(df.info())\n",
    "print(df)"
   ]
  },
  {
   "cell_type": "code",
   "execution_count": 4,
   "metadata": {
    "collapsed": false,
    "pycharm": {
     "name": "#%%\n"
    }
   },
   "outputs": [
    {
     "name": "stdout",
     "output_type": "stream",
     "text": [
      "0        1\n",
      "1        2\n",
      "2        2\n",
      "3        1\n",
      "4        1\n",
      "        ..\n",
      "14994    1\n",
      "14995    1\n",
      "14996    1\n",
      "14997    1\n",
      "14998    1\n",
      "Name: salary, Length: 14999, dtype: int64\n"
     ]
    }
   ],
   "source": [
    "df['salary']=df['salary'].map({'low':1,'medium':2,'high':3})\n",
    "print(df['salary'])"
   ]
  },
  {
   "cell_type": "code",
   "execution_count": 5,
   "metadata": {
    "collapsed": false,
    "pycharm": {
     "name": "#%%\n"
    }
   },
   "outputs": [
    {
     "name": "stdout",
     "output_type": "stream",
     "text": [
      "0        0.0\n",
      "1        0.5\n",
      "2        0.5\n",
      "3        0.0\n",
      "4        0.0\n",
      "        ... \n",
      "14994    0.0\n",
      "14995    0.0\n",
      "14996    0.0\n",
      "14997    0.0\n",
      "14998    0.0\n",
      "Name: salary, Length: 14999, dtype: float64\n"
     ]
    }
   ],
   "source": [
    "df[['salary']]= MinMaxScaler().fit_transform(df[['salary']])\n",
    "print(df['salary'])"
   ]
  },
  {
   "cell_type": "code",
   "execution_count": 6,
   "metadata": {
    "collapsed": false,
    "pycharm": {
     "name": "#%%\n"
    }
   },
   "outputs": [
    {
     "data": {
      "text/plain": [
       "<AxesSubplot:xlabel='left', ylabel='count'>"
      ]
     },
     "execution_count": 6,
     "metadata": {},
     "output_type": "execute_result"
    },
    {
     "data": {
      "image/png": "[encoded data removed]",
      "text/plain": [
       "<Figure size 432x288 with 1 Axes>"
      ]
     },
     "metadata": {
      "needs_background": "light"
     },
     "output_type": "display_data"
    }
   ],
   "source": [
    "sns.countplot('left', data=df)"
   ]
  },
  {
   "cell_type": "code",
   "execution_count": 7,
   "metadata": {
    "collapsed": false,
    "pycharm": {
     "name": "#%%\n"
    }
   },
   "outputs": [
    {
     "data": {
      "text/plain": [
       "<AxesSubplot:>"
      ]
     },
     "execution_count": 7,
     "metadata": {},
     "output_type": "execute_result"
    },
    {
     "data": {
      "image/png": "[encoded data removed]",
      "text/plain": [
       "<Figure size 432x288 with 2 Axes>"
      ]
     },
     "metadata": {
      "needs_background": "light"
     },
     "output_type": "display_data"
    }
   ],
   "source": [
    "sns.heatmap(df[['satisfaction_level','last_evaluation','promotion_last_5years','salary']].corr(),annot=True)"
   ]
  },
  {
   "cell_type": "code",
   "execution_count": 8,
   "metadata": {
    "collapsed": false,
    "pycharm": {
     "name": "#%%\n"
    }
   },
   "outputs": [],
   "source": [
    "from sklearn.model_selection import train_test_split\n",
    "x_train, x_test, y_train, y_test= train_test_split(df[['satisfaction_level','last_evaluation','promotion_last_5years','salary']],df.left, test_size=0.1)"
   ]
  },
  {
   "cell_type": "code",
   "execution_count": 9,
   "metadata": {
    "collapsed": false,
    "pycharm": {
     "name": "#%%\n"
    }
   },
   "outputs": [],
   "source": [
    "from sklearn.linear_model import LogisticRegression\n",
    "model= LogisticRegression(solver='liblinear', C=10.0, random_state=0).fit(x_train,y_train)"
   ]
  },
  {
   "cell_type": "code",
   "execution_count": 10,
   "metadata": {
    "collapsed": false,
    "pycharm": {
     "name": "#%%\n"
    }
   },
   "outputs": [
    {
     "name": "stdout",
     "output_type": "stream",
     "text": [
      "0.7807244981109712\n",
      "[[-3.81181261  0.51940885 -1.34592916 -1.24756656]]\n"
     ]
    }
   ],
   "source": [
    "intercept = model.intercept_\n",
    "coefs = model.coef_\n",
    "score = model.score(x_train,y_train)\n",
    "print(score)\n",
    "print(coefs)\n",
    "prob_matrix = model.predict_proba(x_train)"
   ]
  },
  {
   "cell_type": "code",
   "execution_count": 11,
   "metadata": {
    "collapsed": false,
    "pycharm": {
     "name": "#%%\n"
    }
   },
   "outputs": [
    {
     "name": "stdout",
     "output_type": "stream",
     "text": [
      "              precision    recall  f1-score   support\n",
      "\n",
      "           0       0.80      0.94      0.87     10305\n",
      "           1       0.58      0.26      0.36      3194\n",
      "\n",
      "    accuracy                           0.78     13499\n",
      "   macro avg       0.69      0.60      0.62     13499\n",
      "weighted avg       0.75      0.78      0.75     13499\n",
      "\n"
     ]
    }
   ],
   "source": [
    "from sklearn.metrics import classification_report, confusion_matrix\n",
    "y_train_pred = model.predict(x_train)\n",
    "m=classification_report(y_train,y_train_pred)\n",
    "cm = confusion_matrix(y_train,y_train_pred)\n",
    "print(m)"
   ]
  },
  {
   "cell_type": "code",
   "execution_count": 12,
   "metadata": {
    "collapsed": false,
    "pycharm": {
     "name": "#%%\n"
    }
   },
   "outputs": [
    {
     "data": {
      "image/png": "[encoded data removed]",
      "text/plain": [
       "<Figure size 432x288 with 1 Axes>"
      ]
     },
     "metadata": {
      "needs_background": "light"
     },
     "output_type": "display_data"
    }
   ],
   "source": [
    "fig, ax = plt.subplots()\n",
    "ax.imshow(cm)\n",
    "ax.xaxis.set(ticks=(0,1), ticklabels=('Predicted 0s','Predicted 1s'))\n",
    "ax.yaxis.set(ticks=(0,1), ticklabels=('Actual 0s','Actual 1s'))\n",
    "for i in range(2):\n",
    "    for j in range(2):\n",
    "        ax.text(j,i,cm[i,j], ha='center', va='center', color='r', fontsize=22)\n",
    "plt.show()"
   ]
  },
  {
   "cell_type": "code",
   "execution_count": 13,
   "metadata": {
    "collapsed": false,
    "pycharm": {
     "name": "#%%\n"
    }
   },
   "outputs": [
    {
     "name": "stdout",
     "output_type": "stream",
     "text": [
      "[[0.94231503 0.05768497]\n",
      " [0.88630104 0.11369896]\n",
      " [0.73206821 0.26793179]\n",
      " ...\n",
      " [0.85989516 0.14010484]\n",
      " [0.67776563 0.32223437]\n",
      " [0.87708733 0.12291267]]\n",
      "       satisfaction_level  last_evaluation  promotion_last_5years  salary\n",
      "9978                 0.92             0.78                      0     0.5\n",
      "11397                0.55             0.69                      0     1.0\n",
      "1433                 0.41             0.48                      0     0.5\n",
      "2752                 0.82             0.55                      0     0.5\n",
      "5807                 0.48             0.51                      0     0.0\n",
      "...                   ...              ...                    ...     ...\n",
      "9202                 0.63             0.51                      0     0.0\n",
      "5074                 0.61             0.75                      0     0.0\n",
      "9855                 0.67             0.83                      0     0.5\n",
      "13240                0.52             0.59                      0     0.0\n",
      "11060                0.70             0.76                      0     0.5\n",
      "\n",
      "[1500 rows x 4 columns]\n"
     ]
    }
   ],
   "source": [
    "y_pred = model.predict(x_test) # Making prediction\n",
    "pred_score = model.score(x_test,y_test)\n",
    "pred_prod_matrix= model.predict_proba(x_test)\n",
    "print(pred_prod_matrix)\n",
    "print(x_test)"
   ]
  },
  {
   "cell_type": "code",
   "execution_count": 14,
   "metadata": {
    "collapsed": false,
    "pycharm": {
     "name": "#%%\n"
    }
   },
   "outputs": [],
   "source": [
    "import math\n",
    "\n",
    "def sigmoid(x):\n",
    "    return 1 / (1 + math.exp(-x))\n",
    "\n",
    "def prediction_function( inter, b1,satisfaction_level , b2,last_evaluation,b3,promotion_last_5years,b4,salary):\n",
    "    z= inter + b1* satisfaction_level + b2*last_evaluation + b3*promotion_last_5years + b4*salary\n",
    "    return sigmoid(z)"
   ]
  },
  {
   "cell_type": "code",
   "execution_count": 15,
   "metadata": {
    "collapsed": false,
    "pycharm": {
     "name": "#%%\n"
    }
   },
   "outputs": [
    {
     "data": {
      "text/plain": [
       "[<matplotlib.lines.Line2D at 0x29c4a83f8e0>]"
      ]
     },
     "execution_count": 15,
     "metadata": {},
     "output_type": "execute_result"
    },
    {
     "data": {
      "image/png": "[encoded data removed]",
      "text/plain": [
       "<Figure size 432x288 with 1 Axes>"
      ]
     },
     "metadata": {
      "needs_background": "light"
     },
     "output_type": "display_data"
    }
   ],
   "source": [
    "satis_level = np.linspace(0,1 , 25)\n",
    "last_eval = np.linspace(0,1, 25)\n",
    "promotion_5year = np.linspace(0,1, 25, dtype=int)\n",
    "salaries = np.linspace(0,1 , 25)\n",
    "sigs = []\n",
    "i=0\n",
    "while i < 25:\n",
    "    sigs.append(prediction_function(intercept[0],coefs[0][0] ,satis_level[i],coefs[0][1],last_eval[i], coefs[0][2],promotion_5year[i], coefs[0][3],salaries[i]))\n",
    "    i += 1\n",
    "plt.plot( sigs, color='g', linestyle='--')"
   ]
  },
  {
   "cell_type": "code",
   "execution_count": 16,
   "metadata": {
    "collapsed": false,
    "pycharm": {
     "name": "#%%\n"
    }
   },
   "outputs": [],
   "source": [
    "# save model\n",
    "import pickle\n",
    "with open('./models/model_Logistic_MultipleVariables_BinaryAndOrdinal', 'wb') as f:\n",
    "    pickle.dump(model, f)"
   ]
  }
 ],
 "metadata": {
  "kernelspec": {
   "display_name": "Python 3.9.13 64-bit (windows store)",
   "language": "python",
   "name": "python3"
  },
  "language_info": {
   "codemirror_mode": {
    "name": "ipython",
    "version": 3
   },
   "file_extension": ".py",
   "mimetype": "text/x-python",
   "name": "python",
   "nbconvert_exporter": "python",
   "pygments_lexer": "ipython3",
   "version": "3.9.13"
  },
  "vscode": {
   "interpreter": {
    "hash": "4b012d59fd9967520aa1876644e3a9774eee391dbb6584df68e553498820aaf9"
   }
  }
 },
 "nbformat": 4,
 "nbformat_minor": 0
}
