{
 "cells": [
  {
   "cell_type": "code",
   "execution_count": 1,
   "metadata": {
    "pycharm": {
     "name": "#%%\n"
    }
   },
   "outputs": [],
   "source": [
    "# import thư viện\n",
    "from sklearn.model_selection import train_test_split\n",
    "from sklearn.linear_model import LogisticRegression\n",
    "from sklearn.metrics import confusion_matrix\n",
    "from sklearn.metrics import accuracy_score\n",
    "from sklearn.metrics import classification_report\n",
    "import pandas as pd\n",
    "import matplotlib.pyplot as plt\n",
    "import seaborn as sns\n",
    "from sklearn import metrics"
   ]
  },
  {
   "cell_type": "code",
   "execution_count": 2,
   "metadata": {
    "pycharm": {
     "name": "#%%\n"
    }
   },
   "outputs": [],
   "source": [
    "# đọc dữ liệu\n",
    "df = pd.read_csv(\"../Data/ms_admission.csv\")"
   ]
  },
  {
   "cell_type": "code",
   "execution_count": 3,
   "metadata": {
    "pycharm": {
     "name": "#%%\n"
    }
   },
   "outputs": [
    {
     "name": "stdout",
     "output_type": "stream",
     "text": [
      "gre         0\n",
      "admitted    0\n",
      "dtype: int64\n"
     ]
    }
   ],
   "source": [
    "# kiểm tra giá trị null\n",
    "print(df.isna().sum())"
   ]
  },
  {
   "cell_type": "code",
   "execution_count": 4,
   "metadata": {
    "pycharm": {
     "name": "#%%\n"
    }
   },
   "outputs": [
    {
     "name": "stdout",
     "output_type": "stream",
     "text": [
      "              gre    admitted\n",
      "count  400.000000  400.000000\n",
      "mean   587.700000    0.317500\n",
      "std    115.516536    0.466087\n",
      "min    220.000000    0.000000\n",
      "25%    520.000000    0.000000\n",
      "50%    580.000000    0.000000\n",
      "75%    660.000000    1.000000\n",
      "max    800.000000    1.000000\n"
     ]
    }
   ],
   "source": [
    "# mô tả các giá trị mean min max std\n",
    "print(df.describe())"
   ]
  },
  {
   "cell_type": "code",
   "execution_count": 5,
   "metadata": {
    "pycharm": {
     "name": "#%%\n"
    }
   },
   "outputs": [
    {
     "data": {
      "image/png": "[encoded data removed]",
      "text/plain": [
       "<Figure size 432x288 with 2 Axes>"
      ]
     },
     "metadata": {
      "needs_background": "light"
     },
     "output_type": "display_data"
    }
   ],
   "source": [
    "# Generate histograms\n",
    "sns.set_color_codes('muted')\n",
    "df.hist(color='g')\n",
    "plt.show()"
   ]
  },
  {
   "cell_type": "code",
   "execution_count": 6,
   "metadata": {
    "pycharm": {
     "name": "#%%\n"
    }
   },
   "outputs": [],
   "source": [
    "# gán biến độc lập cho X và biến phụ thuộc cho y\n",
    "X = df[['gre']]\n",
    "y = df['admitted']"
   ]
  },
  {
   "cell_type": "code",
   "execution_count": 7,
   "metadata": {
    "pycharm": {
     "name": "#%%\n"
    }
   },
   "outputs": [],
   "source": [
    "# chia tập dữ liệu huấn luyện và kiểm thử\n",
    "X_train, X_test, y_train, y_test = train_test_split(X, y, test_size=0.5, random_state=5)"
   ]
  },
  {
   "cell_type": "code",
   "execution_count": 8,
   "metadata": {
    "pycharm": {
     "name": "#%%\n"
    }
   },
   "outputs": [
    {
     "data": {
      "text/html": [
       "<style>#sk-container-id-1 {color: black;background-color: white;}#sk-container-id-1 pre{padding: 0;}#sk-container-id-1 div.sk-toggleable {background-color: white;}#sk-container-id-1 label.sk-toggleable__label {cursor: pointer;display: block;width: 100%;margin-bottom: 0;padding: 0.3em;box-sizing: border-box;text-align: center;}#sk-container-id-1 label.sk-toggleable__label-arrow:before {content: \"▸\";float: left;margin-right: 0.25em;color: #696969;}#sk-container-id-1 label.sk-toggleable__label-arrow:hover:before {color: black;}#sk-container-id-1 div.sk-estimator:hover label.sk-toggleable__label-arrow:before {color: black;}#sk-container-id-1 div.sk-toggleable__content {max-height: 0;max-width: 0;overflow: hidden;text-align: left;background-color: #f0f8ff;}#sk-container-id-1 div.sk-toggleable__content pre {margin: 0.2em;color: black;border-radius: 0.25em;background-color: #f0f8ff;}#sk-container-id-1 input.sk-toggleable__control:checked~div.sk-toggleable__content {max-height: 200px;max-width: 100%;overflow: auto;}#sk-container-id-1 input.sk-toggleable__control:checked~label.sk-toggleable__label-arrow:before {content: \"▾\";}#sk-container-id-1 div.sk-estimator input.sk-toggleable__control:checked~label.sk-toggleable__label {background-color: #d4ebff;}#sk-container-id-1 div.sk-label input.sk-toggleable__control:checked~label.sk-toggleable__label {background-color: #d4ebff;}#sk-container-id-1 input.sk-hidden--visually {border: 0;clip: rect(1px 1px 1px 1px);clip: rect(1px, 1px, 1px, 1px);height: 1px;margin: -1px;overflow: hidden;padding: 0;position: absolute;width: 1px;}#sk-container-id-1 div.sk-estimator {font-family: monospace;background-color: #f0f8ff;border: 1px dotted black;border-radius: 0.25em;box-sizing: border-box;margin-bottom: 0.5em;}#sk-container-id-1 div.sk-estimator:hover {background-color: #d4ebff;}#sk-container-id-1 div.sk-parallel-item::after {content: \"\";width: 100%;border-bottom: 1px solid gray;flex-grow: 1;}#sk-container-id-1 div.sk-label:hover label.sk-toggleable__label {background-color: #d4ebff;}#sk-container-id-1 div.sk-serial::before {content: \"\";position: absolute;border-left: 1px solid gray;box-sizing: border-box;top: 0;bottom: 0;left: 50%;z-index: 0;}#sk-container-id-1 div.sk-serial {display: flex;flex-direction: column;align-items: center;background-color: white;padding-right: 0.2em;padding-left: 0.2em;position: relative;}#sk-container-id-1 div.sk-item {position: relative;z-index: 1;}#sk-container-id-1 div.sk-parallel {display: flex;align-items: stretch;justify-content: center;background-color: white;position: relative;}#sk-container-id-1 div.sk-item::before, #sk-container-id-1 div.sk-parallel-item::before {content: \"\";position: absolute;border-left: 1px solid gray;box-sizing: border-box;top: 0;bottom: 0;left: 50%;z-index: -1;}#sk-container-id-1 div.sk-parallel-item {display: flex;flex-direction: column;z-index: 1;position: relative;background-color: white;}#sk-container-id-1 div.sk-parallel-item:first-child::after {align-self: flex-end;width: 50%;}#sk-container-id-1 div.sk-parallel-item:last-child::after {align-self: flex-start;width: 50%;}#sk-container-id-1 div.sk-parallel-item:only-child::after {width: 0;}#sk-container-id-1 div.sk-dashed-wrapped {border: 1px dashed gray;margin: 0 0.4em 0.5em 0.4em;box-sizing: border-box;padding-bottom: 0.4em;background-color: white;}#sk-container-id-1 div.sk-label label {font-family: monospace;font-weight: bold;display: inline-block;line-height: 1.2em;}#sk-container-id-1 div.sk-label-container {text-align: center;}#sk-container-id-1 div.sk-container {/* jupyter's `normalize.less` sets `[hidden] { display: none; }` but bootstrap.min.css set `[hidden] { display: none !important; }` so we also need the `!important` here to be able to override the default hidden behavior on the sphinx rendered scikit-learn.org. See: https://github.com/scikit-learn/scikit-learn/issues/21755 */display: inline-block !important;position: relative;}#sk-container-id-1 div.sk-text-repr-fallback {display: none;}</style><div id=\"sk-container-id-1\" class=\"sk-top-container\"><div class=\"sk-text-repr-fallback\"><pre>LogisticRegression()</pre><b>In a Jupyter environment, please rerun this cell to show the HTML representation or trust the notebook. <br />On GitHub, the HTML representation is unable to render, please try loading this page with nbviewer.org.</b></div><div class=\"sk-container\" hidden><div class=\"sk-item\"><div class=\"sk-estimator sk-toggleable\"><input class=\"sk-toggleable__control sk-hidden--visually\" id=\"sk-estimator-id-1\" type=\"checkbox\" checked><label for=\"sk-estimator-id-1\" class=\"sk-toggleable__label sk-toggleable__label-arrow\">LogisticRegression</label><div class=\"sk-toggleable__content\"><pre>LogisticRegression()</pre></div></div></div></div></div>"
      ],
      "text/plain": [
       "LogisticRegression()"
      ]
     },
     "execution_count": 8,
     "metadata": {},
     "output_type": "execute_result"
    }
   ],
   "source": [
    "# tạo mô hình hồi quy\n",
    "model = LogisticRegression()\n",
    "model.fit(X_train, y_train)"
   ]
  },
  {
   "cell_type": "code",
   "execution_count": 9,
   "metadata": {
    "pycharm": {
     "name": "#%%\n"
    }
   },
   "outputs": [
    {
     "name": "stdout",
     "output_type": "stream",
     "text": [
      "[0 1 0 0 0 0 0 0 0 0 0 0 0 1 0 0 0 0 0 0 0 0 0 0 0 0 0 0 0 0 0 1 0 0 0 0 0\n",
      " 0 0 0 0 0 0 0 0 0 0 0 0 0 0 0 0 0 0 0 0 0 0 0 1 0 0 0 0 0 0 0 0 0 0 0 0 0\n",
      " 0 0 0 0 0 0 0 0 0 0 0 0 0 0 0 1 0 0 0 0 0 0 0 0 0 1 1 1 0 0 0 0 0 1 0 0 0\n",
      " 0 0 0 0 0 0 1 0 0 0 0 0 0 0 0 0 0 1 0 0 0 0 0 0 0 0 0 0 0 0 0 1 0 0 0 0 0\n",
      " 0 0 0 0 0 0 0 0 0 0 0 0 0 0 0 0 0 0 0 0 0 0 0 0 0 0 0 0 0 0 0 0 1 0 0 0 0\n",
      " 0 1 1 0 0 0 0 1 0 0 1 0 0 0 0]\n"
     ]
    }
   ],
   "source": [
    "# tiên lượng dựa trên tập dữ liệu kiểm thử với 0 là not_admitted và 1 là admitted\n",
    "y_predictions = model.predict(X_test)\n",
    "print(y_predictions)"
   ]
  },
  {
   "cell_type": "code",
   "execution_count": 10,
   "metadata": {
    "pycharm": {
     "name": "#%%\n"
    }
   },
   "outputs": [
    {
     "name": "stdout",
     "output_type": "stream",
     "text": [
      "Confusion Matrix:\n",
      " [[134   7]\n",
      " [ 49  10]]\n"
     ]
    },
    {
     "data": {
      "image/png": "[encoded data removed]",
      "text/plain": [
       "<Figure size 432x288 with 2 Axes>"
      ]
     },
     "metadata": {
      "needs_background": "light"
     },
     "output_type": "display_data"
    },
    {
     "data": {
      "text/plain": [
       "<Figure size 216x216 with 0 Axes>"
      ]
     },
     "metadata": {},
     "output_type": "display_data"
    }
   ],
   "source": [
    "# vẽ ma trận nhầm lẫn sử dụng biểu đồ nhiệt heatmap\n",
    "print(\"Confusion Matrix:\\n\", metrics.confusion_matrix(y_test, y_predictions))\n",
    "confusion_matrix = confusion_matrix(y_test, y_predictions)\n",
    "sns.heatmap(confusion_matrix, annot=True, xticklabels=['not_admitted', 'admitted'],\n",
    "            yticklabels=['not_admitted', 'admitted'])\n",
    "# sns.heatmap(confusion_matrix, annot=True)\n",
    "plt.figure(figsize=(3, 3))\n",
    "plt.show()"
   ]
  },
  {
   "cell_type": "code",
   "execution_count": 11,
   "metadata": {
    "pycharm": {
     "name": "#%%\n"
    }
   },
   "outputs": [
    {
     "name": "stdout",
     "output_type": "stream",
     "text": [
      "[[0.77545179 0.22454821]\n",
      " [0.44324912 0.55675088]\n",
      " [0.5507212  0.4492788 ]\n",
      " [0.61361363 0.38638637]\n",
      " [0.81732049 0.18267951]\n",
      " [0.59295951 0.40704049]\n",
      " [0.69163718 0.30836282]\n",
      " [0.69163718 0.30836282]\n",
      " [0.74397398 0.25602602]\n",
      " [0.77545179 0.22454821]\n",
      " [0.70973526 0.29026474]\n",
      " [0.61361363 0.38638637]\n",
      " [0.50773855 0.49226145]\n",
      " [0.44324912 0.55675088]\n",
      " [0.72719012 0.27280988]\n",
      " [0.65365765 0.34634235]\n",
      " [0.67293069 0.32706931]\n",
      " [0.69163718 0.30836282]\n",
      " [0.5507212  0.4492788 ]\n",
      " [0.63386684 0.36613316]\n",
      " [0.59295951 0.40704049]\n",
      " [0.57197147 0.42802853]\n",
      " [0.63386684 0.36613316]\n",
      " [0.52928416 0.47071584]\n",
      " [0.65365765 0.34634235]\n",
      " [0.74397398 0.25602602]\n",
      " [0.63386684 0.36613316]\n",
      " [0.61361363 0.38638637]\n",
      " [0.59295951 0.40704049]\n",
      " [0.50773855 0.49226145]\n",
      " [0.72719012 0.27280988]\n",
      " [0.44324912 0.55675088]\n",
      " [0.67293069 0.32706931]\n",
      " [0.61361363 0.38638637]\n",
      " [0.70973526 0.29026474]\n",
      " [0.52928416 0.47071584]\n",
      " [0.5507212  0.4492788 ]\n",
      " [0.63386684 0.36613316]\n",
      " [0.57197147 0.42802853]\n",
      " [0.81732049 0.18267951]\n",
      " [0.81732049 0.18267951]\n",
      " [0.74397398 0.25602602]\n",
      " [0.70973526 0.29026474]\n",
      " [0.63386684 0.36613316]\n",
      " [0.5507212  0.4492788 ]\n",
      " [0.57197147 0.42802853]\n",
      " [0.87323491 0.12676509]\n",
      " [0.5507212  0.4492788 ]\n",
      " [0.72719012 0.27280988]\n",
      " [0.67293069 0.32706931]\n",
      " [0.59295951 0.40704049]\n",
      " [0.57197147 0.42802853]\n",
      " [0.67293069 0.32706931]\n",
      " [0.81732049 0.18267951]\n",
      " [0.72719012 0.27280988]\n",
      " [0.81732049 0.18267951]\n",
      " [0.76006596 0.23993404]\n",
      " [0.74397398 0.25602602]\n",
      " [0.72719012 0.27280988]\n",
      " [0.59295951 0.40704049]\n",
      " [0.46464119 0.53535881]\n",
      " [0.70973526 0.29026474]\n",
      " [0.82985672 0.17014328]\n",
      " [0.63386684 0.36613316]\n",
      " [0.50773855 0.49226145]\n",
      " [0.57197147 0.42802853]\n",
      " [0.67293069 0.32706931]\n",
      " [0.67293069 0.32706931]\n",
      " [0.70973526 0.29026474]\n",
      " [0.52928416 0.47071584]\n",
      " [0.70973526 0.29026474]\n",
      " [0.61361363 0.38638637]\n",
      " [0.50773855 0.49226145]\n",
      " [0.77545179 0.22454821]\n",
      " [0.76006596 0.23993404]\n",
      " [0.74397398 0.25602602]\n",
      " [0.61361363 0.38638637]\n",
      " [0.76006596 0.23993404]\n",
      " [0.72719012 0.27280988]\n",
      " [0.79012343 0.20987657]\n",
      " [0.61361363 0.38638637]\n",
      " [0.65365765 0.34634235]\n",
      " [0.77545179 0.22454821]\n",
      " [0.50773855 0.49226145]\n",
      " [0.69163718 0.30836282]\n",
      " [0.57197147 0.42802853]\n",
      " [0.50773855 0.49226145]\n",
      " [0.70973526 0.29026474]\n",
      " [0.63386684 0.36613316]\n",
      " [0.48616415 0.51383585]\n",
      " [0.63386684 0.36613316]\n",
      " [0.72719012 0.27280988]\n",
      " [0.76006596 0.23993404]\n",
      " [0.5507212  0.4492788 ]\n",
      " [0.69163718 0.30836282]\n",
      " [0.67293069 0.32706931]\n",
      " [0.59295951 0.40704049]\n",
      " [0.5507212  0.4492788 ]\n",
      " [0.69163718 0.30836282]\n",
      " [0.44324912 0.55675088]\n",
      " [0.48616415 0.51383585]\n",
      " [0.44324912 0.55675088]\n",
      " [0.69163718 0.30836282]\n",
      " [0.59295951 0.40704049]\n",
      " [0.57197147 0.42802853]\n",
      " [0.81732049 0.18267951]\n",
      " [0.69163718 0.30836282]\n",
      " [0.44324912 0.55675088]\n",
      " [0.67293069 0.32706931]\n",
      " [0.63386684 0.36613316]\n",
      " [0.77545179 0.22454821]\n",
      " [0.63386684 0.36613316]\n",
      " [0.59295951 0.40704049]\n",
      " [0.67293069 0.32706931]\n",
      " [0.5507212  0.4492788 ]\n",
      " [0.76006596 0.23993404]\n",
      " [0.57197147 0.42802853]\n",
      " [0.44324912 0.55675088]\n",
      " [0.79012343 0.20987657]\n",
      " [0.70973526 0.29026474]\n",
      " [0.74397398 0.25602602]\n",
      " [0.63386684 0.36613316]\n",
      " [0.67293069 0.32706931]\n",
      " [0.77545179 0.22454821]\n",
      " [0.67293069 0.32706931]\n",
      " [0.70973526 0.29026474]\n",
      " [0.77545179 0.22454821]\n",
      " [0.82985672 0.17014328]\n",
      " [0.44324912 0.55675088]\n",
      " [0.77545179 0.22454821]\n",
      " [0.63386684 0.36613316]\n",
      " [0.67293069 0.32706931]\n",
      " [0.63386684 0.36613316]\n",
      " [0.61361363 0.38638637]\n",
      " [0.76006596 0.23993404]\n",
      " [0.81732049 0.18267951]\n",
      " [0.80407865 0.19592135]\n",
      " [0.79012343 0.20987657]\n",
      " [0.65365765 0.34634235]\n",
      " [0.5507212  0.4492788 ]\n",
      " [0.72719012 0.27280988]\n",
      " [0.79012343 0.20987657]\n",
      " [0.44324912 0.55675088]\n",
      " [0.67293069 0.32706931]\n",
      " [0.74397398 0.25602602]\n",
      " [0.69163718 0.30836282]\n",
      " [0.79012343 0.20987657]\n",
      " [0.74397398 0.25602602]\n",
      " [0.79012343 0.20987657]\n",
      " [0.84169929 0.15830071]\n",
      " [0.63386684 0.36613316]\n",
      " [0.70973526 0.29026474]\n",
      " [0.59295951 0.40704049]\n",
      " [0.61361363 0.38638637]\n",
      " [0.67293069 0.32706931]\n",
      " [0.5507212  0.4492788 ]\n",
      " [0.72719012 0.27280988]\n",
      " [0.70973526 0.29026474]\n",
      " [0.82985672 0.17014328]\n",
      " [0.74397398 0.25602602]\n",
      " [0.74397398 0.25602602]\n",
      " [0.85286372 0.14713628]\n",
      " [0.69163718 0.30836282]\n",
      " [0.72719012 0.27280988]\n",
      " [0.69163718 0.30836282]\n",
      " [0.61361363 0.38638637]\n",
      " [0.69163718 0.30836282]\n",
      " [0.67293069 0.32706931]\n",
      " [0.5507212  0.4492788 ]\n",
      " [0.59295951 0.40704049]\n",
      " [0.61361363 0.38638637]\n",
      " [0.57197147 0.42802853]\n",
      " [0.72719012 0.27280988]\n",
      " [0.85286372 0.14713628]\n",
      " [0.52928416 0.47071584]\n",
      " [0.72719012 0.27280988]\n",
      " [0.80407865 0.19592135]\n",
      " [0.52928416 0.47071584]\n",
      " [0.79012343 0.20987657]\n",
      " [0.59295951 0.40704049]\n",
      " [0.44324912 0.55675088]\n",
      " [0.59295951 0.40704049]\n",
      " [0.61361363 0.38638637]\n",
      " [0.57197147 0.42802853]\n",
      " [0.61361363 0.38638637]\n",
      " [0.65365765 0.34634235]\n",
      " [0.44324912 0.55675088]\n",
      " [0.46464119 0.53535881]\n",
      " [0.63386684 0.36613316]\n",
      " [0.67293069 0.32706931]\n",
      " [0.74397398 0.25602602]\n",
      " [0.52928416 0.47071584]\n",
      " [0.44324912 0.55675088]\n",
      " [0.65365765 0.34634235]\n",
      " [0.63386684 0.36613316]\n",
      " [0.44324912 0.55675088]\n",
      " [0.65365765 0.34634235]\n",
      " [0.69163718 0.30836282]\n",
      " [0.57197147 0.42802853]\n",
      " [0.74397398 0.25602602]]\n"
     ]
    }
   ],
   "source": [
    "# xem class probabilities\n",
    "probabilities = model.predict_proba(X_test)\n",
    "print(probabilities)"
   ]
  },
  {
   "cell_type": "code",
   "execution_count": 12,
   "metadata": {
    "pycharm": {
     "name": "#%%\n"
    }
   },
   "outputs": [
    {
     "name": "stdout",
     "output_type": "stream",
     "text": [
      "Accuracy Score: 0.72\n"
     ]
    }
   ],
   "source": [
    "# kiểm tra độ chính xác của mô hình\n",
    "from sklearn import metrics\n",
    "print(\"Accuracy Score:\", metrics.accuracy_score(y_test, y_predictions))"
   ]
  },
  {
   "cell_type": "code",
   "execution_count": 13,
   "metadata": {
    "pycharm": {
     "name": "#%%\n"
    }
   },
   "outputs": [
    {
     "name": "stdout",
     "output_type": "stream",
     "text": [
      "\n",
      "Classification Report:\n",
      "               precision    recall  f1-score   support\n",
      "\n",
      "           0       0.73      0.95      0.83       141\n",
      "           1       0.59      0.17      0.26        59\n",
      "\n",
      "    accuracy                           0.72       200\n",
      "   macro avg       0.66      0.56      0.55       200\n",
      "weighted avg       0.69      0.72      0.66       200\n",
      "\n"
     ]
    }
   ],
   "source": [
    "# in classification report\n",
    "print(\"\\nClassification Report:\\n\", metrics.classification_report(y_test, y_predictions))"
   ]
  },
  {
   "cell_type": "code",
   "execution_count": 14,
   "metadata": {
    "pycharm": {
     "name": "#%%\n"
    }
   },
   "outputs": [
    {
     "data": {
      "image/png": "[encoded data removed]",
      "text/plain": [
       "<Figure size 432x288 with 1 Axes>"
      ]
     },
     "metadata": {
      "needs_background": "light"
     },
     "output_type": "display_data"
    },
    {
     "name": "stdout",
     "output_type": "stream",
     "text": [
      "Area Under the Curve: 0.5800576992426975\n"
     ]
    }
   ],
   "source": [
    "# plotting ROC Curve\n",
    "fpr, tpr, thresholds = metrics.roc_curve(y_test, probabilities[:, 1])\n",
    "results = pd.DataFrame({'False Positive Rate': fpr, 'True Positive Rate': tpr})\n",
    "plt.plot(fpr, tpr, color='g', label=\"Model\")\n",
    "plt.plot([0, 1], [0, 1], color='gray', linestyle='--', label=\"Baseline (Random Guessing)\")\n",
    "plt.xlabel('False Positive Rate')\n",
    "plt.ylabel('True Positive Rate')\n",
    "plt.title('ROC Curve')\n",
    "plt.legend()\n",
    "plt.show()\n",
    "print(\"Area Under the Curve:\", metrics.roc_auc_score(y_test, probabilities[:, 1]))"
   ]
  },
  {
   "cell_type": "code",
   "execution_count": 15,
   "metadata": {
    "pycharm": {
     "name": "#%%\n"
    }
   },
   "outputs": [],
   "source": [
    "# save model\n",
    "import pickle\n",
    "with open('./models/model_Logistic_SingVariable', 'wb') as f:\n",
    "    pickle.dump(model, f)"
   ]
  }
 ],
 "metadata": {
  "kernelspec": {
   "display_name": "Python 3.9.13 64-bit (windows store)",
   "language": "python",
   "name": "python3"
  },
  "language_info": {
   "codemirror_mode": {
    "name": "ipython",
    "version": 3
   },
   "file_extension": ".py",
   "mimetype": "text/x-python",
   "name": "python",
   "nbconvert_exporter": "python",
   "pygments_lexer": "ipython3",
   "version": "3.9.13"
  },
  "vscode": {
   "interpreter": {
    "hash": "4b012d59fd9967520aa1876644e3a9774eee391dbb6584df68e553498820aaf9"
   }
  }
 },
 "nbformat": 4,
 "nbformat_minor": 1
}
